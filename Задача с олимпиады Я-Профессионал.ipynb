{
 "cells": [
  {
   "cell_type": "markdown",
   "metadata": {},
   "source": [
    "## Задание I\n",
    "<i>Интерактивная задача: отгадай число</i>"
   ]
  },
  {
   "cell_type": "code",
   "execution_count": null,
   "metadata": {},
   "outputs": [
    {
     "name": "stdout",
     "output_type": "stream",
     "text": [
      "? 10001\n",
      "? 20001\n",
      "? 30001\n",
      "? 40001\n",
      "? 50001\n",
      "? 60001\n",
      "? 70001\n",
      "? 80001\n",
      "? 90001\n",
      "+\n"
     ]
    }
   ],
   "source": [
    "import sys\n",
    "\n",
    "min_x = 1\n",
    "max_x = 100001\n",
    "width = max_x - min_x\n",
    "guess = [round(0.1*q, 1) for q in range(1, 10)]\n",
    "\n",
    "while width > 2:\n",
    "    for g in guess:\n",
    "        print('? ' + str(int(min_x + width * g)))\n",
    "\n",
    "    print('+')\n",
    "    sys.stdout.flush()\n",
    "\n",
    "    min_cur = min_x\n",
    "    for j in guess:\n",
    "        g = int(min_cur + width * j)\n",
    "        if input() == '1':\n",
    "            if g < max_x:\n",
    "                max_x = g\n",
    "        else:\n",
    "            if g > min_x:\n",
    "                min_x = g\n",
    "\n",
    "    width = max_x - min_x\n",
    "\n",
    "print('! ' + str(min_x))\n",
    "sys.stdout.flush()"
   ]
  }
 ],
 "metadata": {
  "kernelspec": {
   "display_name": "Python 3",
   "language": "python",
   "name": "python3"
  },
  "language_info": {
   "codemirror_mode": {
    "name": "ipython",
    "version": 3
   },
   "file_extension": ".py",
   "mimetype": "text/x-python",
   "name": "python",
   "nbconvert_exporter": "python",
   "pygments_lexer": "ipython3",
   "version": "3.8.5"
  }
 },
 "nbformat": 4,
 "nbformat_minor": 4
}
